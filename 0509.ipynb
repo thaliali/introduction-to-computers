{
  "nbformat": 4,
  "nbformat_minor": 0,
  "metadata": {
    "colab": {
      "name": "0509.ipynb",
      "provenance": [],
      "authorship_tag": "ABX9TyPTinjkFSprZPay4RvXjjdL",
      "include_colab_link": true
    },
    "kernelspec": {
      "name": "python3",
      "display_name": "Python 3"
    },
    "language_info": {
      "name": "python"
    }
  },
  "cells": [
    {
      "cell_type": "markdown",
      "metadata": {
        "id": "view-in-github",
        "colab_type": "text"
      },
      "source": [
        "<a href=\"https://colab.research.google.com/github/thaliali/introduction-to-computers/blob/main/0509.ipynb\" target=\"_parent\"><img src=\"https://colab.research.google.com/assets/colab-badge.svg\" alt=\"Open In Colab\"/></a>"
      ]
    },
    {
      "cell_type": "code",
      "source": [
        "temp= float(input('請輸入你的體溫'))\n",
        "if temp >= 37.5:\n",
        "    print('體溫過高！')\n",
        "elif temp >=37 and temp<37.4:\n",
        "    print('體溫比較高')\n",
        "elif temp >=34 and temp<= 36.9:\n",
        "    print('體溫正常')\n",
        "else:\n",
        "    print('體溫異常，請重新量測')"
      ],
      "metadata": {
        "colab": {
          "base_uri": "https://localhost:8080/"
        },
        "id": "Y9jhEpx98Odo",
        "outputId": "0a12d241-d364-4d09-b612-add9a7799b20"
      },
      "execution_count": 2,
      "outputs": [
        {
          "output_type": "stream",
          "name": "stdout",
          "text": [
            "請輸入你的體溫33.9\n",
            "體溫異常，請重新量測\n"
          ]
        }
      ]
    },
    {
      "cell_type": "code",
      "source": [
        "score = input('請輸入成績')\n",
        "if (int(score) >=90):\n",
        "    print('A')\n",
        "elif (int(score)>= 80):\n",
        "    print ('B')\n",
        "elif (int(score)>= 70):\n",
        "    print ('C')\n",
        "elif (int(score)>= 60):\n",
        "    print ('d')\n",
        "else:\n",
        "    print('E')"
      ],
      "metadata": {
        "colab": {
          "base_uri": "https://localhost:8080/"
        },
        "id": "p71fazpi_5R-",
        "outputId": "ac77ebc5-3a30-468c-f88a-f2f860513bf3"
      },
      "execution_count": 3,
      "outputs": [
        {
          "output_type": "stream",
          "name": "stdout",
          "text": [
            "請輸入成績50\n",
            "E\n"
          ]
        }
      ]
    },
    {
      "cell_type": "code",
      "source": [
        "money = int(input('請輸入購物金額：'))\n",
        "if (money >=10000):\n",
        "  if(money >=100000):\n",
        "    print('八折', money *0.8, end = '元\\n')\n",
        "  elif(money >=50000):\n",
        "    print('八五折', money *0.85, end = '元\\n')\n",
        "  elif(money >=30000):\n",
        "    print('九折', money *0.9, end = '元\\n')\n",
        "  elif(money >=100000):\n",
        "    print('九五折', money *0.95, end = '元\\n')\n",
        "  else:\n",
        "    print('沒打折',money, end='元\\n')"
      ],
      "metadata": {
        "colab": {
          "base_uri": "https://localhost:8080/"
        },
        "id": "15xLe8u3FH99",
        "outputId": "e07928fd-a6e9-40d4-9c4f-0235cdacc711"
      },
      "execution_count": 4,
      "outputs": [
        {
          "output_type": "stream",
          "name": "stdout",
          "text": [
            "請輸入購物金額：50000\n",
            "八五折 42500.0元\n"
          ]
        }
      ]
    },
    {
      "cell_type": "code",
      "source": [
        "month = int(input('請輸入月份:'))\n",
        "if(month >=3 and month <=5):\n",
        "  print('這是春天')\n",
        "elif(month >=6 and month <=8):\n",
        "  print('這是夏天')\n",
        "elif(month >=9 and month<=11):\n",
        "  print('這是秋天')\n",
        "elif(month >=12 and month <=2):\n",
        "  print('這是冬天')\n",
        "else:\n",
        "  print('月份不在範圍内')"
      ],
      "metadata": {
        "colab": {
          "base_uri": "https://localhost:8080/"
        },
        "id": "OZ2qW88sJhCy",
        "outputId": "2113c94b-2a95-420c-89d4-d690319bcde7"
      },
      "execution_count": 6,
      "outputs": [
        {
          "output_type": "stream",
          "name": "stdout",
          "text": [
            "請輸入月份:15\n",
            "月份不在範圍内\n"
          ]
        }
      ]
    },
    {
      "cell_type": "code",
      "source": [
        "tax = int(input('請輸入今年收入净額：'))\n",
        "if tax>=2000000:\n",
        "  print('付税金額:',tax *0.3,end='元')\n",
        "elif tax>=1000000:\n",
        "   print('付税金額:',tax *0.21,end='元')\n",
        "elif tax>=600000:\n",
        "   print('付税金額:',tax *0.13,end='元')\n",
        "elif tax>=300000:\n",
        "   print('付税金額:',tax *0.06,end='元')\n",
        "else:\n",
        "   print('付税金額:',tax *0,end='元')"
      ],
      "metadata": {
        "colab": {
          "base_uri": "https://localhost:8080/"
        },
        "id": "ptDxjb0lNXR3",
        "outputId": "538031c3-f161-4289-89f0-b9729dedcd8b"
      },
      "execution_count": 9,
      "outputs": [
        {
          "output_type": "stream",
          "name": "stdout",
          "text": [
            "請輸入今年收入净額：2000000\n",
            "付税金額: 600000.0元"
          ]
        }
      ]
    }
  ]
}